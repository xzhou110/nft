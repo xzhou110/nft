{
 "cells": [
  {
   "cell_type": "code",
   "execution_count": null,
   "metadata": {},
   "outputs": [],
   "source": [
    "import requests as r\n",
    "import pandas as pd\n",
    "\n",
    "\n",
    "MIN_TOKENID = 1;\n",
    "MAX_TOKENID = 92;\n",
    "\n",
    "URL = 'https://api.madmeerkat.io/api/tokens/equipment/{tokenId}'\n",
    "\n",
    "def fetchMeta():\n",
    "    attrs = []\n",
    "    names = []\n",
    "    for tokenId in range(MIN_TOKENID, MAX_TOKENID + 1, 1):\n",
    "        print(tokenId)\n",
    "        url = URL.format(tokenId=tokenId)\n",
    "        obj = r.get(url).json()\n",
    "\n",
    "        attributes = obj['attributes']\n",
    "\n",
    "        colNames = [a['trait_type'] for a in attributes]\n",
    "        values = [a['value'] for a in attributes]\n",
    "\n",
    "        newObj = {}\n",
    "        for colName, value in zip(colNames, values):\n",
    "            newObj[colName] = value\n",
    "        newObj['image'] = obj['image']\n",
    "\n",
    "        # df = pd.DataFrame(values, columns=colNames)\n",
    "        attrs.append(newObj)\n",
    "        names.append(obj['name'])\n",
    "\n",
    "    df = pd.DataFrame(attrs, index=names)\n",
    "    df['_sum_4_main'] = df.Strength + df.Vitality + df.Agility + df.Accuracy\n",
    "    df.to_csv('mme.csv')\n",
    "    return df\n",
    "\n",
    "df = fetchMeta()"
   ]
  },
  {
   "cell_type": "code",
   "execution_count": 11,
   "metadata": {
    "ExecuteTime": {
     "end_time": "2022-10-05T00:50:42.182204Z",
     "start_time": "2022-10-05T00:50:36.786422Z"
    }
   },
   "outputs": [],
   "source": [
    "import requests as r\n",
    "import pandas as pd\n",
    "\n",
    "\n",
    "MIN_TOKENID = 1;\n",
    "MAX_TOKENID = 5;\n",
    "\n",
    "URL = 'https://api.madmeerkat.io/api/tokens/equipment/{tokenId}'\n",
    "\n",
    "# URL = 'https://opensea.io/assets/matic/0x2f5b31d2b4891f0ed183d56dd6ebd55249ca1d0c/{tokenId}'"
   ]
  },
  {
   "cell_type": "code",
   "execution_count": 28,
   "metadata": {
    "ExecuteTime": {
     "end_time": "2022-10-05T01:22:18.748632Z",
     "start_time": "2022-10-05T01:22:18.739335Z"
    }
   },
   "outputs": [
    {
     "name": "stdout",
     "output_type": "stream",
     "text": [
      "https://api.madmeerkat.io/api/tokens/equipment/1\n",
      "https://api.madmeerkat.io/api/tokens/equipment/2\n",
      "https://api.madmeerkat.io/api/tokens/equipment/3\n",
      "https://api.madmeerkat.io/api/tokens/equipment/4\n",
      "https://api.madmeerkat.io/api/tokens/equipment/5\n"
     ]
    }
   ],
   "source": [
    "for tokenId in range (MIN_TOKENID, MAX_TOKENID+1):\n",
    "    url = URL.format(tokenId=tokenId)\n",
    "    print(url)"
   ]
  },
  {
   "cell_type": "code",
   "execution_count": 29,
   "metadata": {
    "ExecuteTime": {
     "end_time": "2022-10-05T01:22:26.970415Z",
     "start_time": "2022-10-05T01:22:26.162669Z"
    }
   },
   "outputs": [],
   "source": [
    "# verify=False\n",
    "url2 = 'https://opensea.io/assets/matic/0x2f5b31d2b4891f0ed183d56dd6ebd55249ca1d0c/1'\n",
    "response = r.get(url)"
   ]
  },
  {
   "cell_type": "code",
   "execution_count": 30,
   "metadata": {
    "ExecuteTime": {
     "end_time": "2022-10-05T01:22:28.210305Z",
     "start_time": "2022-10-05T01:22:28.202279Z"
    }
   },
   "outputs": [
    {
     "data": {
      "text/plain": [
       "200"
      ]
     },
     "execution_count": 30,
     "metadata": {},
     "output_type": "execute_result"
    }
   ],
   "source": [
    "response.status_code"
   ]
  },
  {
   "cell_type": "code",
   "execution_count": 34,
   "metadata": {
    "ExecuteTime": {
     "end_time": "2022-10-05T01:23:16.608879Z",
     "start_time": "2022-10-05T01:23:16.599799Z"
    }
   },
   "outputs": [
    {
     "data": {
      "text/plain": [
       "'{\"id\":\"5\",\"name\":\"Mad Meerkat Equipment #5\",\"description\":\"The Mad Meerkat Equipment collection is the equipment collection for our MMA game.\",\"image\":\"https://madmeerkat.mypinata.cloud/ipfs/QmSjyTeRPd1mvFiepfDwU5zqhT9x6heZLrbhrtZPEvxijt/shoe/7.png\",\"attributes\":[{\"trait_type\":\"Type\",\"value\":\"Shoe\"},{\"trait_type\":\"Artifact\",\"value\":\"7\"},{\"trait_type\":\"Name\",\"value\":\"Platinum Trinity Boots\"},{\"trait_type\":\"Strength\",\"value\":6},{\"trait_type\":\"Vitality\",\"value\":6},{\"trait_type\":\"Agility\",\"value\":5},{\"trait_type\":\"Accuracy\",\"value\":0},{\"trait_type\":\"Rarity\",\"value\":3},{\"trait_type\":\"Tier\",\"value\":2}]}'"
      ]
     },
     "execution_count": 34,
     "metadata": {},
     "output_type": "execute_result"
    }
   ],
   "source": [
    "page = response.text\n",
    "page"
   ]
  },
  {
   "cell_type": "code",
   "execution_count": null,
   "metadata": {},
   "outputs": [],
   "source": []
  },
  {
   "cell_type": "code",
   "execution_count": null,
   "metadata": {},
   "outputs": [],
   "source": [
    "obj = r.get(url, verify=False).json()"
   ]
  },
  {
   "cell_type": "code",
   "execution_count": null,
   "metadata": {},
   "outputs": [],
   "source": []
  },
  {
   "cell_type": "code",
   "execution_count": null,
   "metadata": {},
   "outputs": [],
   "source": [
    "def fetchMeta():\n",
    "    attrs = []\n",
    "    names = []\n",
    "    for tokenId in range(MIN_TOKENID, MAX_TOKENID + 1, 1):\n",
    "        print(tokenId)\n",
    "        url = URL.format(tokenId=tokenId)\n",
    "        obj = r.get(url, verify=False).json()\n",
    "\n",
    "        attributes = obj['attributes']\n",
    "\n",
    "        colNames = [a['trait_type'] for a in attributes]\n",
    "        values = [a['value'] for a in attributes]\n",
    "\n",
    "        newObj = {}\n",
    "        for colName, value in zip(colNames, values):\n",
    "            newObj[colName] = value\n",
    "        newObj['image'] = obj['image']\n",
    "\n",
    "        # df = pd.DataFrame(values, columns=colNames)\n",
    "        attrs.append(newObj)\n",
    "        names.append(obj['name'])\n",
    "\n",
    "    df = pd.DataFrame(attrs, index=names)\n",
    "    df['_sum_4_main'] = df.Strength + df.Vitality + df.Agility + df.Accuracy\n",
    "    df.to_csv('mme.csv')\n",
    "    return df\n"
   ]
  },
  {
   "cell_type": "code",
   "execution_count": null,
   "metadata": {},
   "outputs": [],
   "source": [
    "df = fetchMeta()"
   ]
  },
  {
   "cell_type": "code",
   "execution_count": null,
   "metadata": {},
   "outputs": [],
   "source": [
    "df"
   ]
  },
  {
   "cell_type": "code",
   "execution_count": null,
   "metadata": {},
   "outputs": [],
   "source": []
  }
 ],
 "metadata": {
  "kernelspec": {
   "display_name": "Python 3",
   "language": "python",
   "name": "python3"
  },
  "toc": {
   "base_numbering": 1,
   "nav_menu": {},
   "number_sections": true,
   "sideBar": true,
   "skip_h1_title": false,
   "title_cell": "Table of Contents",
   "title_sidebar": "Contents",
   "toc_cell": false,
   "toc_position": {},
   "toc_section_display": true,
   "toc_window_display": false
  },
  "varInspector": {
   "cols": {
    "lenName": 16,
    "lenType": 16,
    "lenVar": 40
   },
   "kernels_config": {
    "python": {
     "delete_cmd_postfix": "",
     "delete_cmd_prefix": "del ",
     "library": "var_list.py",
     "varRefreshCmd": "print(var_dic_list())"
    },
    "r": {
     "delete_cmd_postfix": ") ",
     "delete_cmd_prefix": "rm(",
     "library": "var_list.r",
     "varRefreshCmd": "cat(var_dic_list()) "
    }
   },
   "types_to_exclude": [
    "module",
    "function",
    "builtin_function_or_method",
    "instance",
    "_Feature"
   ],
   "window_display": false
  }
 },
 "nbformat": 4,
 "nbformat_minor": 2
}
