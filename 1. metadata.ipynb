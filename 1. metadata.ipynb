{
 "cells": [
  {
   "cell_type": "code",
   "execution_count": null,
   "metadata": {},
   "outputs": [],
   "source": [
    "import requests as r\n",
    "import pandas as pd\n",
    "\n",
    "\n",
    "MIN_TOKENID = 1;\n",
    "MAX_TOKENID = 92;\n",
    "\n",
    "URL = 'https://api.madmeerkat.io/api/tokens/equipment/{tokenId}'\n",
    "\n",
    "def fetchMeta():\n",
    "    attrs = []\n",
    "    names = []\n",
    "    for tokenId in range(MIN_TOKENID, MAX_TOKENID + 1, 1):\n",
    "        print(tokenId)\n",
    "        url = URL.format(tokenId=tokenId)\n",
    "        obj = r.get(url).json()\n",
    "\n",
    "        attributes = obj['attributes']\n",
    "\n",
    "        colNames = [a['trait_type'] for a in attributes]\n",
    "        values = [a['value'] for a in attributes]\n",
    "\n",
    "        newObj = {}\n",
    "        for colName, value in zip(colNames, values):\n",
    "            newObj[colName] = value\n",
    "        newObj['image'] = obj['image']\n",
    "\n",
    "        # df = pd.DataFrame(values, columns=colNames)\n",
    "        attrs.append(newObj)\n",
    "        names.append(obj['name'])\n",
    "\n",
    "    df = pd.DataFrame(attrs, index=names)\n",
    "    df['_sum_4_main'] = df.Strength + df.Vitality + df.Agility + df.Accuracy\n",
    "    df.to_csv('mme.csv')\n",
    "    return df\n",
    "\n",
    "df = fetchMeta()"
   ]
  },
  {
   "cell_type": "code",
   "execution_count": 11,
   "metadata": {
    "ExecuteTime": {
     "end_time": "2022-10-05T00:50:42.182204Z",
     "start_time": "2022-10-05T00:50:36.786422Z"
    }
   },
   "outputs": [],
   "source": [
    "import requests as r\n",
    "import pandas as pd\n",
    "\n",
    "\n",
    "MIN_TOKENID = 1;\n",
    "MAX_TOKENID = 5;\n",
    "\n",
    "URL = 'https://api.madmeerkat.io/api/tokens/equipment/{tokenId}'\n",
    "\n",
    "# URL = 'https://opensea.io/assets/matic/0x2f5b31d2b4891f0ed183d56dd6ebd55249ca1d0c/{tokenId}'"
   ]
  },
  {
   "cell_type": "code",
   "execution_count": 28,
   "metadata": {
    "ExecuteTime": {
     "end_time": "2022-10-05T01:22:18.748632Z",
     "start_time": "2022-10-05T01:22:18.739335Z"
    }
   },
   "outputs": [
    {
     "name": "stdout",
     "output_type": "stream",
     "text": [
      "https://api.madmeerkat.io/api/tokens/equipment/1\n",
      "https://api.madmeerkat.io/api/tokens/equipment/2\n",
      "https://api.madmeerkat.io/api/tokens/equipment/3\n",
      "https://api.madmeerkat.io/api/tokens/equipment/4\n",
      "https://api.madmeerkat.io/api/tokens/equipment/5\n"
     ]
    }
   ],
   "source": [
    "for tokenId in range (MIN_TOKENID, MAX_TOKENID+1):\n",
    "    url = URL.format(tokenId=tokenId)\n",
    "    print(url)"
   ]
  },
  {
   "cell_type": "code",
   "execution_count": 43,
   "metadata": {
    "ExecuteTime": {
     "end_time": "2022-10-05T01:25:50.775709Z",
     "start_time": "2022-10-05T01:25:50.119619Z"
    }
   },
   "outputs": [
    {
     "name": "stdout",
     "output_type": "stream",
     "text": [
      "200\n"
     ]
    }
   ],
   "source": [
    "# verify=False\n",
    "url2 = 'https://opensea.io/assets/matic/0x2f5b31d2b4891f0ed183d56dd6ebd55249ca1d0c/1'\n",
    "\n",
    "response = r.get(url)\n",
    "page = response.text\n",
    "\n",
    "print(response.status_code)"
   ]
  },
  {
   "cell_type": "code",
   "execution_count": 42,
   "metadata": {
    "ExecuteTime": {
     "end_time": "2022-10-05T01:24:51.205403Z",
     "start_time": "2022-10-05T01:24:51.198040Z"
    }
   },
   "outputs": [
    {
     "name": "stdout",
     "output_type": "stream",
     "text": [
      "<html>\n",
      " <body>\n",
      "  <p>\n",
      "   {\"id\":\"5\",\"name\":\"Mad Meerkat Equipment #5\",\"description\":\"The Mad Meerkat Equipment collection is the equipment collection for our MMA game.\",\"image\":\"https://madmeerkat.mypinata.cloud/ipfs/QmSjyTeRPd1mvFiepfDwU5zqhT9x6heZLrbhrtZPEvxijt/shoe/7.png\",\"attributes\":[{\"trait_type\":\"Type\",\"value\":\"Shoe\"},{\"trait_type\":\"Artifact\",\"value\":\"7\"},{\"trait_type\":\"Name\",\"value\":\"Platinum Trinity Boots\"},{\"trait_type\":\"Strength\",\"value\":6},{\"trait_type\":\"Vitality\",\"value\":6},{\"trait_type\":\"Agility\",\"value\":5},{\"trait_type\":\"Accuracy\",\"value\":0},{\"trait_type\":\"Rarity\",\"value\":3},{\"trait_type\":\"Tier\",\"value\":2}]}\n",
      "  </p>\n",
      " </body>\n",
      "</html>\n"
     ]
    }
   ],
   "source": [
    "## if need to assess the contents\n",
    "\n",
    "from bs4 import BeautifulSoup\n",
    "\n",
    "soup = BeautifulSoup(page,\"lxml\")\n",
    "print(soup.prettify())"
   ]
  },
  {
   "cell_type": "code",
   "execution_count": 55,
   "metadata": {
    "ExecuteTime": {
     "end_time": "2022-10-05T01:29:40.410903Z",
     "start_time": "2022-10-05T01:29:40.402884Z"
    }
   },
   "outputs": [
    {
     "name": "stdout",
     "output_type": "stream",
     "text": [
      "<p>{\"id\":\"5\",\"name\":\"Mad Meerkat Equipment #5\",\"description\":\"The Mad Meerkat Equipment collection is the equipment collection for our MMA game.\",\"image\":\"https://madmeerkat.mypinata.cloud/ipfs/QmSjyTeRPd1mvFiepfDwU5zqhT9x6heZLrbhrtZPEvxijt/shoe/7.png\",\"attributes\":[{\"trait_type\":\"Type\",\"value\":\"Shoe\"},{\"trait_type\":\"Artifact\",\"value\":\"7\"},{\"trait_type\":\"Name\",\"value\":\"Platinum Trinity Boots\"},{\"trait_type\":\"Strength\",\"value\":6},{\"trait_type\":\"Vitality\",\"value\":6},{\"trait_type\":\"Agility\",\"value\":5},{\"trait_type\":\"Accuracy\",\"value\":0},{\"trait_type\":\"Rarity\",\"value\":3},{\"trait_type\":\"Tier\",\"value\":2}]}</p>\n"
     ]
    }
   ],
   "source": [
    "print(soup.find('p'))"
   ]
  },
  {
   "cell_type": "code",
   "execution_count": 86,
   "metadata": {
    "ExecuteTime": {
     "end_time": "2022-10-05T01:42:43.391157Z",
     "start_time": "2022-10-05T01:42:43.376982Z"
    }
   },
   "outputs": [
    {
     "data": {
      "text/plain": [
       "{'id': '5',\n",
       " 'name': 'Mad Meerkat Equipment #5',\n",
       " 'description': 'The Mad Meerkat Equipment collection is the equipment collection for our MMA game.',\n",
       " 'image': 'https://madmeerkat.mypinata.cloud/ipfs/QmSjyTeRPd1mvFiepfDwU5zqhT9x6heZLrbhrtZPEvxijt/shoe/7.png',\n",
       " 'attributes': [{'trait_type': 'Type', 'value': 'Shoe'},\n",
       "  {'trait_type': 'Artifact', 'value': '7'},\n",
       "  {'trait_type': 'Name', 'value': 'Platinum Trinity Boots'},\n",
       "  {'trait_type': 'Strength', 'value': 6},\n",
       "  {'trait_type': 'Vitality', 'value': 6},\n",
       "  {'trait_type': 'Agility', 'value': 5},\n",
       "  {'trait_type': 'Accuracy', 'value': 0},\n",
       "  {'trait_type': 'Rarity', 'value': 3},\n",
       "  {'trait_type': 'Tier', 'value': 2}]}"
      ]
     },
     "execution_count": 86,
     "metadata": {},
     "output_type": "execute_result"
    }
   ],
   "source": [
    "obj = response.json()\n",
    "obj"
   ]
  },
  {
   "cell_type": "code",
   "execution_count": 129,
   "metadata": {
    "ExecuteTime": {
     "end_time": "2022-10-05T01:50:06.332043Z",
     "start_time": "2022-10-05T01:50:06.326092Z"
    }
   },
   "outputs": [],
   "source": [
    "attr = obj['attributes']\n",
    "\n",
    "trait_name = [i['trait_type'] for i in attr]\n",
    "trait_value = [i['value'] for i in attr]"
   ]
  },
  {
   "cell_type": "code",
   "execution_count": 130,
   "metadata": {
    "ExecuteTime": {
     "end_time": "2022-10-05T01:50:06.756241Z",
     "start_time": "2022-10-05T01:50:06.749657Z"
    }
   },
   "outputs": [],
   "source": [
    "# traits = {}\n",
    "traits = zip(trait_name, trait_value)"
   ]
  },
  {
   "cell_type": "code",
   "execution_count": 131,
   "metadata": {
    "ExecuteTime": {
     "end_time": "2022-10-05T01:50:07.149304Z",
     "start_time": "2022-10-05T01:50:07.140569Z"
    }
   },
   "outputs": [
    {
     "data": {
      "text/plain": [
       "{'Type': 'Shoe',\n",
       " 'Artifact': '7',\n",
       " 'Name': 'Platinum Trinity Boots',\n",
       " 'Strength': 6,\n",
       " 'Vitality': 6,\n",
       " 'Agility': 5,\n",
       " 'Accuracy': 0,\n",
       " 'Rarity': 3,\n",
       " 'Tier': 2}"
      ]
     },
     "execution_count": 131,
     "metadata": {},
     "output_type": "execute_result"
    }
   ],
   "source": [
    "res = {i:j for i, j in traits}\n",
    "res"
   ]
  },
  {
   "cell_type": "code",
   "execution_count": 132,
   "metadata": {
    "ExecuteTime": {
     "end_time": "2022-10-05T01:50:47.415646Z",
     "start_time": "2022-10-05T01:50:47.408298Z"
    }
   },
   "outputs": [],
   "source": [
    "res['url'] = obj['image']"
   ]
  },
  {
   "cell_type": "code",
   "execution_count": 133,
   "metadata": {
    "ExecuteTime": {
     "end_time": "2022-10-05T01:50:49.276638Z",
     "start_time": "2022-10-05T01:50:49.267436Z"
    }
   },
   "outputs": [
    {
     "data": {
      "text/plain": [
       "{'Type': 'Shoe',\n",
       " 'Artifact': '7',\n",
       " 'Name': 'Platinum Trinity Boots',\n",
       " 'Strength': 6,\n",
       " 'Vitality': 6,\n",
       " 'Agility': 5,\n",
       " 'Accuracy': 0,\n",
       " 'Rarity': 3,\n",
       " 'Tier': 2,\n",
       " 'url': 'https://madmeerkat.mypinata.cloud/ipfs/QmSjyTeRPd1mvFiepfDwU5zqhT9x6heZLrbhrtZPEvxijt/shoe/7.png'}"
      ]
     },
     "execution_count": 133,
     "metadata": {},
     "output_type": "execute_result"
    }
   ],
   "source": [
    "res"
   ]
  },
  {
   "cell_type": "code",
   "execution_count": 137,
   "metadata": {
    "ExecuteTime": {
     "end_time": "2022-10-05T01:52:56.896295Z",
     "start_time": "2022-10-05T01:52:56.887519Z"
    }
   },
   "outputs": [
    {
     "data": {
      "text/plain": [
       "dict_keys(['Type', 'Artifact', 'Name', 'Strength', 'Vitality', 'Agility', 'Accuracy', 'Rarity', 'Tier', 'url'])"
      ]
     },
     "execution_count": 137,
     "metadata": {},
     "output_type": "execute_result"
    }
   ],
   "source": [
    "res.keys()"
   ]
  },
  {
   "cell_type": "code",
   "execution_count": 138,
   "metadata": {
    "ExecuteTime": {
     "end_time": "2022-10-05T01:53:47.766990Z",
     "start_time": "2022-10-05T01:53:47.736871Z"
    }
   },
   "outputs": [
    {
     "data": {
      "text/plain": [
       "dict_values(['Shoe', '7', 'Platinum Trinity Boots', 6, 6, 5, 0, 3, 2, 'https://madmeerkat.mypinata.cloud/ipfs/QmSjyTeRPd1mvFiepfDwU5zqhT9x6heZLrbhrtZPEvxijt/shoe/7.png'])"
      ]
     },
     "execution_count": 138,
     "metadata": {},
     "output_type": "execute_result"
    }
   ],
   "source": [
    "res.values()"
   ]
  },
  {
   "cell_type": "code",
   "execution_count": 147,
   "metadata": {
    "ExecuteTime": {
     "end_time": "2022-10-05T01:59:18.862256Z",
     "start_time": "2022-10-05T01:59:18.843090Z"
    }
   },
   "outputs": [
    {
     "data": {
      "text/html": [
       "<div>\n",
       "<style scoped>\n",
       "    .dataframe tbody tr th:only-of-type {\n",
       "        vertical-align: middle;\n",
       "    }\n",
       "\n",
       "    .dataframe tbody tr th {\n",
       "        vertical-align: top;\n",
       "    }\n",
       "\n",
       "    .dataframe thead th {\n",
       "        text-align: right;\n",
       "    }\n",
       "</style>\n",
       "<table border=\"1\" class=\"dataframe\">\n",
       "  <thead>\n",
       "    <tr style=\"text-align: right;\">\n",
       "      <th></th>\n",
       "      <th>Type</th>\n",
       "      <th>Artifact</th>\n",
       "      <th>Name</th>\n",
       "      <th>Strength</th>\n",
       "      <th>Vitality</th>\n",
       "      <th>Agility</th>\n",
       "      <th>Accuracy</th>\n",
       "      <th>Rarity</th>\n",
       "      <th>Tier</th>\n",
       "      <th>url</th>\n",
       "    </tr>\n",
       "  </thead>\n",
       "  <tbody>\n",
       "    <tr>\n",
       "      <th>0</th>\n",
       "      <td>Shoe</td>\n",
       "      <td>7</td>\n",
       "      <td>Platinum Trinity Boots</td>\n",
       "      <td>6</td>\n",
       "      <td>6</td>\n",
       "      <td>5</td>\n",
       "      <td>0</td>\n",
       "      <td>3</td>\n",
       "      <td>2</td>\n",
       "      <td>https://madmeerkat.mypinata.cloud/ipfs/QmSjyTe...</td>\n",
       "    </tr>\n",
       "  </tbody>\n",
       "</table>\n",
       "</div>"
      ],
      "text/plain": [
       "   Type Artifact                    Name  Strength  Vitality  Agility  \\\n",
       "0  Shoe        7  Platinum Trinity Boots         6         6        5   \n",
       "\n",
       "   Accuracy  Rarity  Tier                                                url  \n",
       "0         0       3     2  https://madmeerkat.mypinata.cloud/ipfs/QmSjyTe...  "
      ]
     },
     "execution_count": 147,
     "metadata": {},
     "output_type": "execute_result"
    }
   ],
   "source": [
    "df = pd.DataFrame([res], columns = res.keys())\n",
    "df"
   ]
  },
  {
   "cell_type": "code",
   "execution_count": 148,
   "metadata": {
    "ExecuteTime": {
     "end_time": "2022-10-05T02:01:24.936516Z",
     "start_time": "2022-10-05T02:01:24.929051Z"
    }
   },
   "outputs": [
    {
     "name": "stdout",
     "output_type": "stream",
     "text": [
      "0\n",
      "1\n",
      "2\n",
      "3\n",
      "4\n"
     ]
    }
   ],
   "source": [
    "for i in range(0, 5):\n",
    "    print(i)"
   ]
  },
  {
   "cell_type": "code",
   "execution_count": 193,
   "metadata": {
    "ExecuteTime": {
     "end_time": "2022-10-05T02:19:16.416954Z",
     "start_time": "2022-10-05T02:19:16.386777Z"
    }
   },
   "outputs": [],
   "source": [
    "MIN_TOKENID = 1;\n",
    "MAX_TOKENID = 92;\n",
    "\n",
    "URL = 'https://api.madmeerkat.io/api/tokens/equipment/{tokenId}'\n",
    "\n",
    "\n",
    "def fetchMeta(max_):\n",
    "    \n",
    "    res = []\n",
    "    \n",
    "    for i in range(MIN_TOKENID, max_+1):\n",
    "        url = URL.format(tokenId = i)\n",
    "#         print(url)\n",
    "        response = r.get(url)\n",
    "        obj = response.json()\n",
    "        \n",
    "        attr = obj['attributes']\n",
    "        trait_name = [i['trait_type'] for i in attr]\n",
    "        trait_value = [i['value'] for i in attr]\n",
    "        traits = zip(trait_name, trait_value)\n",
    "        \n",
    "        meta = {n:v for n, v in traits}\n",
    "        res.append(meta)\n",
    "        \n",
    "    df = pd.DataFrame(res, columns = res[0].keys())\n",
    "    return df    "
   ]
  },
  {
   "cell_type": "code",
   "execution_count": null,
   "metadata": {
    "ExecuteTime": {
     "start_time": "2022-10-05T02:19:17.097Z"
    }
   },
   "outputs": [],
   "source": [
    "df = fetchMeta(100)\n",
    "df"
   ]
  },
  {
   "cell_type": "code",
   "execution_count": null,
   "metadata": {},
   "outputs": [],
   "source": []
  }
 ],
 "metadata": {
  "kernelspec": {
   "display_name": "Python 3",
   "language": "python",
   "name": "python3"
  },
  "toc": {
   "base_numbering": 1,
   "nav_menu": {},
   "number_sections": true,
   "sideBar": true,
   "skip_h1_title": false,
   "title_cell": "Table of Contents",
   "title_sidebar": "Contents",
   "toc_cell": false,
   "toc_position": {},
   "toc_section_display": true,
   "toc_window_display": false
  },
  "varInspector": {
   "cols": {
    "lenName": 16,
    "lenType": 16,
    "lenVar": 40
   },
   "kernels_config": {
    "python": {
     "delete_cmd_postfix": "",
     "delete_cmd_prefix": "del ",
     "library": "var_list.py",
     "varRefreshCmd": "print(var_dic_list())"
    },
    "r": {
     "delete_cmd_postfix": ") ",
     "delete_cmd_prefix": "rm(",
     "library": "var_list.r",
     "varRefreshCmd": "cat(var_dic_list()) "
    }
   },
   "types_to_exclude": [
    "module",
    "function",
    "builtin_function_or_method",
    "instance",
    "_Feature"
   ],
   "window_display": false
  }
 },
 "nbformat": 4,
 "nbformat_minor": 2
}
